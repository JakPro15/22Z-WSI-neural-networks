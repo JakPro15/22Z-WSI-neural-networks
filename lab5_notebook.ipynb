{
 "cells": [
  {
   "attachments": {},
   "cell_type": "markdown",
   "metadata": {},
   "source": [
    "# WSI - ćwiczenie 5.\n",
    "#### Sieci neuronowe\n",
    "\n",
    "Klasa implementująca perceptron wielowarstwowy jest zawarta w pliku multilayer_perceptron.py.  \n",
    "Funkcja implementująca uczenie perceptronu metodą stochastycznego najszybszego spadku jest zawarta w pliku sgd.py."
   ]
  },
  {
   "cell_type": "code",
   "execution_count": 1,
   "metadata": {},
   "outputs": [],
   "source": [
    "import sklearn.datasets\n",
    "import testing_datasets\n",
    "%matplotlib inline"
   ]
  },
  {
   "attachments": {},
   "cell_type": "markdown",
   "metadata": {},
   "source": [
    "Zaczynam od załadowania zbioru danych z biblioteki sklearn.<br>\n",
    "Następnie dzielę go na zbiór treningowy, walidacyjny i testowy."
   ]
  },
  {
   "cell_type": "code",
   "execution_count": 2,
   "metadata": {},
   "outputs": [
    {
     "name": "stdout",
     "output_type": "stream",
     "text": [
      "Ilość atrybutów w jednej próbce: 13\n",
      "\n",
      "Zbiór treningowy: 142 elementów - 0.8 początkowego zbioru\n",
      "Zbiór walidacyjny: 18 elementów - 0.1 początkowego zbioru\n",
      "Zbiór testowy: 18 elementów - 0.1 początkowego zbioru\n"
     ]
    }
   ],
   "source": [
    "TRAIN_SIZE = 0.8\n",
    "VALID_SIZE = 0.1\n",
    "\n",
    "X_all, Y_all = sklearn.datasets.load_wine(return_X_y=True)\n",
    "X_train, Y_train, X_validation, Y_validation, X_test, Y_test = testing_datasets.triple_split(X_all, Y_all, TRAIN_SIZE, VALID_SIZE)\n",
    "Y_train = testing_datasets.change_data_into_prob(Y_train)\n",
    "Y_validation = testing_datasets.change_data_into_prob(Y_validation)\n",
    "Y_test = testing_datasets.change_data_into_prob(Y_test)\n",
    "\n",
    "print(f\"Ilość atrybutów w jednej próbce: {X_all.shape[1]}\\n\")\n",
    "\n",
    "print(f\"Zbiór treningowy: {len(X_train)} elementów - {TRAIN_SIZE} początkowego zbioru\")\n",
    "print(f\"Zbiór walidacyjny: {len(X_validation)} elementów - {VALID_SIZE} początkowego zbioru\")\n",
    "print(f\"Zbiór testowy: {len(X_test)} elementów - {1 - TRAIN_SIZE - VALID_SIZE:.5} początkowego zbioru\")"
   ]
  },
  {
   "attachments": {},
   "cell_type": "markdown",
   "metadata": {},
   "source": [
    "Potem następuje właściwy trening sieci neuronowej."
   ]
  }
 ],
 "metadata": {
  "kernelspec": {
   "display_name": "Python 3",
   "language": "python",
   "name": "python3"
  },
  "language_info": {
   "codemirror_mode": {
    "name": "ipython",
    "version": 3
   },
   "file_extension": ".py",
   "mimetype": "text/x-python",
   "name": "python",
   "nbconvert_exporter": "python",
   "pygments_lexer": "ipython3",
   "version": "3.10.6"
  },
  "orig_nbformat": 4,
  "vscode": {
   "interpreter": {
    "hash": "916dbcbb3f70747c44a77c7bcd40155683ae19c65e1c03b4aa3499c5328201f1"
   }
  }
 },
 "nbformat": 4,
 "nbformat_minor": 2
}
